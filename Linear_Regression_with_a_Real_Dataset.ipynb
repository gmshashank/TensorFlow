{
  "nbformat": 4,
  "nbformat_minor": 0,
  "metadata": {
    "colab": {
      "name": "Linear Regression with a Real Dataset.ipynb",
      "provenance": [],
      "collapsed_sections": []
    },
    "kernelspec": {
      "name": "python3",
      "display_name": "Python 3"
    }
  },
  "cells": [
    {
      "cell_type": "code",
      "metadata": {
        "id": "D_c4MUMOf6oV",
        "colab_type": "code",
        "colab": {}
      },
      "source": [
        "%tensorflow_version 2.x"
      ],
      "execution_count": null,
      "outputs": []
    },
    {
      "cell_type": "code",
      "metadata": {
        "id": "mQCM1uQOgPKu",
        "colab_type": "code",
        "colab": {}
      },
      "source": [
        "import pandas as pd\n",
        "import tensorflow as tf\n",
        "from matplotlib import pyplot as plt\n",
        "pd.options.display.float_format = \"{:.1f}\".format"
      ],
      "execution_count": null,
      "outputs": []
    },
    {
      "cell_type": "code",
      "metadata": {
        "id": "v6CLXLw2gVp2",
        "colab_type": "code",
        "colab": {
          "base_uri": "https://localhost:8080/",
          "height": 215
        },
        "outputId": "f3b4efed-fde6-4412-ea67-a0d6ac8b1b28"
      },
      "source": [
        "training_df = pd.read_csv(filepath_or_buffer=\"https://download.mlcc.google.com/mledu-datasets/california_housing_train.csv\")\n",
        "training_df[\"median_house_value\"] /=1000.0\n",
        "training_df.head()"
      ],
      "execution_count": null,
      "outputs": [
        {
          "output_type": "execute_result",
          "data": {
            "text/html": [
              "<div>\n",
              "<style scoped>\n",
              "    .dataframe tbody tr th:only-of-type {\n",
              "        vertical-align: middle;\n",
              "    }\n",
              "\n",
              "    .dataframe tbody tr th {\n",
              "        vertical-align: top;\n",
              "    }\n",
              "\n",
              "    .dataframe thead th {\n",
              "        text-align: right;\n",
              "    }\n",
              "</style>\n",
              "<table border=\"1\" class=\"dataframe\">\n",
              "  <thead>\n",
              "    <tr style=\"text-align: right;\">\n",
              "      <th></th>\n",
              "      <th>longitude</th>\n",
              "      <th>latitude</th>\n",
              "      <th>housing_median_age</th>\n",
              "      <th>total_rooms</th>\n",
              "      <th>total_bedrooms</th>\n",
              "      <th>population</th>\n",
              "      <th>households</th>\n",
              "      <th>median_income</th>\n",
              "      <th>median_house_value</th>\n",
              "    </tr>\n",
              "  </thead>\n",
              "  <tbody>\n",
              "    <tr>\n",
              "      <th>0</th>\n",
              "      <td>-114.3</td>\n",
              "      <td>34.2</td>\n",
              "      <td>15.0</td>\n",
              "      <td>5612.0</td>\n",
              "      <td>1283.0</td>\n",
              "      <td>1015.0</td>\n",
              "      <td>472.0</td>\n",
              "      <td>1.5</td>\n",
              "      <td>66.9</td>\n",
              "    </tr>\n",
              "    <tr>\n",
              "      <th>1</th>\n",
              "      <td>-114.5</td>\n",
              "      <td>34.4</td>\n",
              "      <td>19.0</td>\n",
              "      <td>7650.0</td>\n",
              "      <td>1901.0</td>\n",
              "      <td>1129.0</td>\n",
              "      <td>463.0</td>\n",
              "      <td>1.8</td>\n",
              "      <td>80.1</td>\n",
              "    </tr>\n",
              "    <tr>\n",
              "      <th>2</th>\n",
              "      <td>-114.6</td>\n",
              "      <td>33.7</td>\n",
              "      <td>17.0</td>\n",
              "      <td>720.0</td>\n",
              "      <td>174.0</td>\n",
              "      <td>333.0</td>\n",
              "      <td>117.0</td>\n",
              "      <td>1.7</td>\n",
              "      <td>85.7</td>\n",
              "    </tr>\n",
              "    <tr>\n",
              "      <th>3</th>\n",
              "      <td>-114.6</td>\n",
              "      <td>33.6</td>\n",
              "      <td>14.0</td>\n",
              "      <td>1501.0</td>\n",
              "      <td>337.0</td>\n",
              "      <td>515.0</td>\n",
              "      <td>226.0</td>\n",
              "      <td>3.2</td>\n",
              "      <td>73.4</td>\n",
              "    </tr>\n",
              "    <tr>\n",
              "      <th>4</th>\n",
              "      <td>-114.6</td>\n",
              "      <td>33.6</td>\n",
              "      <td>20.0</td>\n",
              "      <td>1454.0</td>\n",
              "      <td>326.0</td>\n",
              "      <td>624.0</td>\n",
              "      <td>262.0</td>\n",
              "      <td>1.9</td>\n",
              "      <td>65.5</td>\n",
              "    </tr>\n",
              "  </tbody>\n",
              "</table>\n",
              "</div>"
            ],
            "text/plain": [
              "   longitude  latitude  ...  median_income  median_house_value\n",
              "0     -114.3      34.2  ...            1.5                66.9\n",
              "1     -114.5      34.4  ...            1.8                80.1\n",
              "2     -114.6      33.7  ...            1.7                85.7\n",
              "3     -114.6      33.6  ...            3.2                73.4\n",
              "4     -114.6      33.6  ...            1.9                65.5\n",
              "\n",
              "[5 rows x 9 columns]"
            ]
          },
          "metadata": {
            "tags": []
          },
          "execution_count": 3
        }
      ]
    },
    {
      "cell_type": "code",
      "metadata": {
        "id": "33QlWocahWNH",
        "colab_type": "code",
        "colab": {
          "base_uri": "https://localhost:8080/",
          "height": 304
        },
        "outputId": "131ccd10-702c-40e0-f701-6a566c39a098"
      },
      "source": [
        "\n",
        "training_df.describe()"
      ],
      "execution_count": null,
      "outputs": [
        {
          "output_type": "execute_result",
          "data": {
            "text/html": [
              "<div>\n",
              "<style scoped>\n",
              "    .dataframe tbody tr th:only-of-type {\n",
              "        vertical-align: middle;\n",
              "    }\n",
              "\n",
              "    .dataframe tbody tr th {\n",
              "        vertical-align: top;\n",
              "    }\n",
              "\n",
              "    .dataframe thead th {\n",
              "        text-align: right;\n",
              "    }\n",
              "</style>\n",
              "<table border=\"1\" class=\"dataframe\">\n",
              "  <thead>\n",
              "    <tr style=\"text-align: right;\">\n",
              "      <th></th>\n",
              "      <th>longitude</th>\n",
              "      <th>latitude</th>\n",
              "      <th>housing_median_age</th>\n",
              "      <th>total_rooms</th>\n",
              "      <th>total_bedrooms</th>\n",
              "      <th>population</th>\n",
              "      <th>households</th>\n",
              "      <th>median_income</th>\n",
              "      <th>median_house_value</th>\n",
              "    </tr>\n",
              "  </thead>\n",
              "  <tbody>\n",
              "    <tr>\n",
              "      <th>count</th>\n",
              "      <td>17000.0</td>\n",
              "      <td>17000.0</td>\n",
              "      <td>17000.0</td>\n",
              "      <td>17000.0</td>\n",
              "      <td>17000.0</td>\n",
              "      <td>17000.0</td>\n",
              "      <td>17000.0</td>\n",
              "      <td>17000.0</td>\n",
              "      <td>17000.0</td>\n",
              "    </tr>\n",
              "    <tr>\n",
              "      <th>mean</th>\n",
              "      <td>-119.6</td>\n",
              "      <td>35.6</td>\n",
              "      <td>28.6</td>\n",
              "      <td>2643.7</td>\n",
              "      <td>539.4</td>\n",
              "      <td>1429.6</td>\n",
              "      <td>501.2</td>\n",
              "      <td>3.9</td>\n",
              "      <td>207.3</td>\n",
              "    </tr>\n",
              "    <tr>\n",
              "      <th>std</th>\n",
              "      <td>2.0</td>\n",
              "      <td>2.1</td>\n",
              "      <td>12.6</td>\n",
              "      <td>2179.9</td>\n",
              "      <td>421.5</td>\n",
              "      <td>1147.9</td>\n",
              "      <td>384.5</td>\n",
              "      <td>1.9</td>\n",
              "      <td>116.0</td>\n",
              "    </tr>\n",
              "    <tr>\n",
              "      <th>min</th>\n",
              "      <td>-124.3</td>\n",
              "      <td>32.5</td>\n",
              "      <td>1.0</td>\n",
              "      <td>2.0</td>\n",
              "      <td>1.0</td>\n",
              "      <td>3.0</td>\n",
              "      <td>1.0</td>\n",
              "      <td>0.5</td>\n",
              "      <td>15.0</td>\n",
              "    </tr>\n",
              "    <tr>\n",
              "      <th>25%</th>\n",
              "      <td>-121.8</td>\n",
              "      <td>33.9</td>\n",
              "      <td>18.0</td>\n",
              "      <td>1462.0</td>\n",
              "      <td>297.0</td>\n",
              "      <td>790.0</td>\n",
              "      <td>282.0</td>\n",
              "      <td>2.6</td>\n",
              "      <td>119.4</td>\n",
              "    </tr>\n",
              "    <tr>\n",
              "      <th>50%</th>\n",
              "      <td>-118.5</td>\n",
              "      <td>34.2</td>\n",
              "      <td>29.0</td>\n",
              "      <td>2127.0</td>\n",
              "      <td>434.0</td>\n",
              "      <td>1167.0</td>\n",
              "      <td>409.0</td>\n",
              "      <td>3.5</td>\n",
              "      <td>180.4</td>\n",
              "    </tr>\n",
              "    <tr>\n",
              "      <th>75%</th>\n",
              "      <td>-118.0</td>\n",
              "      <td>37.7</td>\n",
              "      <td>37.0</td>\n",
              "      <td>3151.2</td>\n",
              "      <td>648.2</td>\n",
              "      <td>1721.0</td>\n",
              "      <td>605.2</td>\n",
              "      <td>4.8</td>\n",
              "      <td>265.0</td>\n",
              "    </tr>\n",
              "    <tr>\n",
              "      <th>max</th>\n",
              "      <td>-114.3</td>\n",
              "      <td>42.0</td>\n",
              "      <td>52.0</td>\n",
              "      <td>37937.0</td>\n",
              "      <td>6445.0</td>\n",
              "      <td>35682.0</td>\n",
              "      <td>6082.0</td>\n",
              "      <td>15.0</td>\n",
              "      <td>500.0</td>\n",
              "    </tr>\n",
              "  </tbody>\n",
              "</table>\n",
              "</div>"
            ],
            "text/plain": [
              "       longitude  latitude  ...  median_income  median_house_value\n",
              "count    17000.0   17000.0  ...        17000.0             17000.0\n",
              "mean      -119.6      35.6  ...            3.9               207.3\n",
              "std          2.0       2.1  ...            1.9               116.0\n",
              "min       -124.3      32.5  ...            0.5                15.0\n",
              "25%       -121.8      33.9  ...            2.6               119.4\n",
              "50%       -118.5      34.2  ...            3.5               180.4\n",
              "75%       -118.0      37.7  ...            4.8               265.0\n",
              "max       -114.3      42.0  ...           15.0               500.0\n",
              "\n",
              "[8 rows x 9 columns]"
            ]
          },
          "metadata": {
            "tags": []
          },
          "execution_count": 4
        }
      ]
    },
    {
      "cell_type": "code",
      "metadata": {
        "id": "a_meOoG8haN2",
        "colab_type": "code",
        "colab": {}
      },
      "source": [
        "def build_model(my_learning_rate):\n",
        "  model=tf.keras.models.Sequential()\n",
        "  model.add(tf.keras.layers.Dense(units=1,input_shape=(1,)))\n",
        "  model.compile(optimizer=tf.keras.optimizers.RMSprop(lr=my_learning_rate),loss=\"mean_squared_error\",\n",
        "                metrics=[tf.keras.metrics.RootMeanSquaredError()])\n",
        "  return model"
      ],
      "execution_count": null,
      "outputs": []
    },
    {
      "cell_type": "code",
      "metadata": {
        "id": "fLiP5ypyjxVM",
        "colab_type": "code",
        "colab": {}
      },
      "source": [
        "def train_model(model,df,feature,label,epochs,batch_size):\n",
        "  history=model.fit(x=df[feature],y=df[label],batch_size=batch_size,epochs=epochs)\n",
        "\n",
        "  trained_weight=model.get_weights()[0]\n",
        "  trained_bias=model.get_weights()[1]\n",
        "  epochs=history.epoch\n",
        "\n",
        "  hist=pd.DataFrame(history.history)\n",
        "  rmse=hist[\"root_mean_squared_error\"]\n",
        "  return trained_weight,trained_bias,epochs,rmse"
      ],
      "execution_count": null,
      "outputs": []
    },
    {
      "cell_type": "code",
      "metadata": {
        "id": "KM-tC9_ykhaY",
        "colab_type": "code",
        "colab": {}
      },
      "source": [
        "def plot_the_model(trained_weight,trained_bias,feature,label):\n",
        "  plt.xlabel(feature)\n",
        "  plt.ylabel(\"label\")\n",
        "  random_examples=training_df.sample(n=200)\n",
        "  plt.scatter(random_examples[feature],random_examples[label])\n",
        "\n",
        "  x0=0\n",
        "  y0=trained_bias\n",
        "  x1=10000\n",
        "  y1=trained_bias+trained_weight*x1\n",
        "  plt.plot([x0,x1],[y0,y1],c=\"r\")\n",
        "  plt.show()"
      ],
      "execution_count": null,
      "outputs": []
    },
    {
      "cell_type": "code",
      "metadata": {
        "id": "BKoQM9pule2R",
        "colab_type": "code",
        "colab": {}
      },
      "source": [
        "def plot_the_loss_curve(epochs,rmse):\n",
        "  plt.figure()\n",
        "  plt.xlabel(\"Epoch\")\n",
        "  plt.ylabel(\"Root Mean Squared Error\")\n",
        "  plt.plot(epochs,rmse,label=\"Loss\")\n",
        "  plt.legend()\n",
        "  plt.ylim([rmse.min()*0.97,rmse.max()])\n",
        "  plt.show()"
      ],
      "execution_count": null,
      "outputs": []
    },
    {
      "cell_type": "code",
      "metadata": {
        "id": "AByhv8yvl70E",
        "colab_type": "code",
        "colab": {
          "base_uri": "https://localhost:8080/",
          "height": 1000
        },
        "outputId": "9c16f084-b683-4179-ebee-5f5d66ed3bc9"
      },
      "source": [
        "learning_rate=0.01\n",
        "epochs=30\n",
        "batch_size=30\n",
        "\n",
        "my_feature=\"total_rooms\"\n",
        "my_label=\"median_house_value\"\n",
        "\n",
        "my_model=None\n",
        "my_model=build_model(learning_rate)\n",
        "weight,bias,epochs,rmse=train_model(my_model,training_df,my_feature,my_label,epochs,batch_size)\n",
        "print(\"\\nThe learned weight for your model is %.4f\" % weight)\n",
        "print(\"The learned bias for your model is %.4f\\n\" % bias )\n",
        "plot_the_model(weight,bias,my_feature,my_label)\n",
        "plot_the_loss_curve(epochs,rmse)"
      ],
      "execution_count": null,
      "outputs": [
        {
          "output_type": "stream",
          "text": [
            "Epoch 1/30\n",
            "567/567 [==============================] - 0s 771us/step - loss: 1216706.5000 - root_mean_squared_error: 1103.0442\n",
            "Epoch 2/30\n",
            "567/567 [==============================] - 0s 731us/step - loss: 28297.9258 - root_mean_squared_error: 168.2199\n",
            "Epoch 3/30\n",
            "567/567 [==============================] - 0s 729us/step - loss: 27415.7480 - root_mean_squared_error: 165.5770\n",
            "Epoch 4/30\n",
            "567/567 [==============================] - 0s 746us/step - loss: 26726.6562 - root_mean_squared_error: 163.4829\n",
            "Epoch 5/30\n",
            "567/567 [==============================] - 0s 741us/step - loss: 25893.3340 - root_mean_squared_error: 160.9141\n",
            "Epoch 6/30\n",
            "567/567 [==============================] - 0s 805us/step - loss: 25195.7285 - root_mean_squared_error: 158.7316\n",
            "Epoch 7/30\n",
            "567/567 [==============================] - 0s 861us/step - loss: 24580.1738 - root_mean_squared_error: 156.7807\n",
            "Epoch 8/30\n",
            "567/567 [==============================] - 0s 839us/step - loss: 23995.3203 - root_mean_squared_error: 154.9042\n",
            "Epoch 9/30\n",
            "567/567 [==============================] - 0s 782us/step - loss: 23345.3789 - root_mean_squared_error: 152.7919\n",
            "Epoch 10/30\n",
            "567/567 [==============================] - 0s 785us/step - loss: 22631.3086 - root_mean_squared_error: 150.4371\n",
            "Epoch 11/30\n",
            "567/567 [==============================] - 0s 761us/step - loss: 22183.7148 - root_mean_squared_error: 148.9420\n",
            "Epoch 12/30\n",
            "567/567 [==============================] - 0s 746us/step - loss: 21660.1680 - root_mean_squared_error: 147.1739\n",
            "Epoch 13/30\n",
            "567/567 [==============================] - 0s 743us/step - loss: 21103.5410 - root_mean_squared_error: 145.2706\n",
            "Epoch 14/30\n",
            "567/567 [==============================] - 0s 726us/step - loss: 20546.5293 - root_mean_squared_error: 143.3406\n",
            "Epoch 15/30\n",
            "567/567 [==============================] - 0s 746us/step - loss: 19970.0527 - root_mean_squared_error: 141.3154\n",
            "Epoch 16/30\n",
            "567/567 [==============================] - 0s 731us/step - loss: 19667.7070 - root_mean_squared_error: 140.2416\n",
            "Epoch 17/30\n",
            "567/567 [==============================] - 0s 757us/step - loss: 19311.0527 - root_mean_squared_error: 138.9642\n",
            "Epoch 18/30\n",
            "567/567 [==============================] - 0s 742us/step - loss: 18773.5898 - root_mean_squared_error: 137.0168\n",
            "Epoch 19/30\n",
            "567/567 [==============================] - 0s 738us/step - loss: 18477.0273 - root_mean_squared_error: 135.9302\n",
            "Epoch 20/30\n",
            "567/567 [==============================] - 0s 764us/step - loss: 17901.7871 - root_mean_squared_error: 133.7976\n",
            "Epoch 21/30\n",
            "567/567 [==============================] - 0s 725us/step - loss: 17615.5098 - root_mean_squared_error: 132.7234\n",
            "Epoch 22/30\n",
            "567/567 [==============================] - 0s 736us/step - loss: 17445.9141 - root_mean_squared_error: 132.0830\n",
            "Epoch 23/30\n",
            "567/567 [==============================] - 0s 722us/step - loss: 17095.1113 - root_mean_squared_error: 130.7483\n",
            "Epoch 24/30\n",
            "567/567 [==============================] - 0s 755us/step - loss: 16725.7754 - root_mean_squared_error: 129.3282\n",
            "Epoch 25/30\n",
            "567/567 [==============================] - 0s 772us/step - loss: 16415.8730 - root_mean_squared_error: 128.1245\n",
            "Epoch 26/30\n",
            "567/567 [==============================] - 0s 824us/step - loss: 16116.9209 - root_mean_squared_error: 126.9524\n",
            "Epoch 27/30\n",
            "567/567 [==============================] - 0s 761us/step - loss: 15938.2100 - root_mean_squared_error: 126.2466\n",
            "Epoch 28/30\n",
            "567/567 [==============================] - 0s 748us/step - loss: 15728.8936 - root_mean_squared_error: 125.4149\n",
            "Epoch 29/30\n",
            "567/567 [==============================] - 0s 750us/step - loss: 15565.3184 - root_mean_squared_error: 124.7610\n",
            "Epoch 30/30\n",
            "567/567 [==============================] - 0s 781us/step - loss: 15453.3066 - root_mean_squared_error: 124.3113\n",
            "\n",
            "The learned weight for your model is 0.0261\n",
            "The learned bias for your model is 130.8083\n",
            "\n"
          ],
          "name": "stdout"
        },
        {
          "output_type": "display_data",
          "data": {
            "image/png": "[encoded data removed]",
            "text/plain": [
              "<Figure size 432x288 with 1 Axes>"
            ]
          },
          "metadata": {
            "tags": [],
            "needs_background": "light"
          }
        },
        {
          "output_type": "display_data",
          "data": {
            "image/png": "[encoded data removed]",
            "text/plain": [
              "<Figure size 432x288 with 1 Axes>"
            ]
          },
          "metadata": {
            "tags": [],
            "needs_background": "light"
          }
        }
      ]
    },
    {
      "cell_type": "markdown",
      "metadata": {
        "id": "xxO6mZV1pfoN",
        "colab_type": "text"
      },
      "source": [
        "Using the model to make predictions"
      ]
    },
    {
      "cell_type": "code",
      "metadata": {
        "id": "q260hG5emRaK",
        "colab_type": "code",
        "colab": {}
      },
      "source": [
        "def predict_house_values(n,feature,label):\n",
        "  batch=training_df[feature][10000:10000+n]\n",
        "  predicted_values=my_model.predict_on_batch(x=batch)\n",
        "\n",
        "  print(\"feature label        predicted\")\n",
        "  print(\"value   value        value\")\n",
        "  print(\"        in thousand$ in thousand$\")\n",
        "  print(\"----------------------------------\")\n",
        "  for i in range(n):\n",
        "    print(\"%5.0f %6.0f %15.0f\"%(training_df[feature][10000+i],training_df[label][1000+i],predicted_values[i][0]))    "
      ],
      "execution_count": null,
      "outputs": []
    },
    {
      "cell_type": "code",
      "metadata": {
        "id": "vJgYUQz5pLTe",
        "colab_type": "code",
        "colab": {
          "base_uri": "https://localhost:8080/",
          "height": 252
        },
        "outputId": "668c8896-043b-4637-e05c-63a8008660b4"
      },
      "source": [
        "predict_house_values(10,my_feature,my_label)"
      ],
      "execution_count": null,
      "outputs": [
        {
          "output_type": "stream",
          "text": [
            "feature label        predicted\n",
            "value   value        value\n",
            "        in thousand$ in thousand$\n",
            "----------------------------------\n",
            " 1960    169             182\n",
            " 3400    184             220\n",
            " 3677    161             227\n",
            " 2202    160             188\n",
            " 2403    275             194\n",
            " 5652    261             279\n",
            " 3318     86             218\n",
            " 2552    168             197\n",
            " 1364    184             166\n",
            " 3468    180             221\n"
          ],
          "name": "stdout"
        }
      ]
    },
    {
      "cell_type": "code",
      "metadata": {
        "id": "jypv6HSrpZzb",
        "colab_type": "code",
        "colab": {}
      },
      "source": [
        "# Most of the predicted values differ significantly\n",
        "# from the label value, so the trained model probably \n",
        "# doesn't have much predictive power. However, the\n",
        "# first 10 examples might not be representative of \n",
        "# the rest of the examples.  \n",
        "\n",
        "# Hence changing the feature to be used"
      ],
      "execution_count": null,
      "outputs": []
    },
    {
      "cell_type": "code",
      "metadata": {
        "id": "ILfJGkXIpaMR",
        "colab_type": "code",
        "colab": {
          "base_uri": "https://localhost:8080/",
          "height": 1000
        },
        "outputId": "d9ae0c1b-4dd9-4867-84de-2bd8157de8c8"
      },
      "source": [
        "my_feature=\"population\"\n",
        "my_label=\"median_house_value\"\n",
        "learning_rate = 0.1\n",
        "epochs = 18\n",
        "batch_size = 3\n",
        "\n",
        "my_model=None\n",
        "my_model=build_model(learning_rate)\n",
        "weight,bias,epochs,rmse=train_model(my_model,training_df,my_feature,my_label,epochs,batch_size)\n",
        "print(\"\\nThe learned weight for your model is %.4f\" % weight)\n",
        "print(\"The learned bias for your model is %.4f\\n\" % bias )\n",
        "plot_the_model(weight,bias,my_feature,my_label)\n",
        "plot_the_loss_curve(epochs,rmse)\n",
        "\n",
        "predict_house_values(10,my_feature,my_label)"
      ],
      "execution_count": null,
      "outputs": [
        {
          "output_type": "stream",
          "text": [
            "Epoch 1/18\n",
            "5667/5667 [==============================] - 5s 811us/step - loss: 42608.8555 - root_mean_squared_error: 206.4191\n",
            "Epoch 2/18\n",
            "5667/5667 [==============================] - 5s 821us/step - loss: 26763.6094 - root_mean_squared_error: 163.5959\n",
            "Epoch 3/18\n",
            "5667/5667 [==============================] - 5s 843us/step - loss: 27374.3809 - root_mean_squared_error: 165.4521\n",
            "Epoch 4/18\n",
            "5667/5667 [==============================] - 5s 833us/step - loss: 26799.8594 - root_mean_squared_error: 163.7066\n",
            "Epoch 5/18\n",
            "5667/5667 [==============================] - 5s 831us/step - loss: 26832.6484 - root_mean_squared_error: 163.8067\n",
            "Epoch 6/18\n",
            "5667/5667 [==============================] - 5s 841us/step - loss: 27349.7402 - root_mean_squared_error: 165.3776\n",
            "Epoch 7/18\n",
            "5667/5667 [==============================] - 5s 815us/step - loss: 27282.4355 - root_mean_squared_error: 165.1740\n",
            "Epoch 8/18\n",
            "5667/5667 [==============================] - 5s 823us/step - loss: 25990.2656 - root_mean_squared_error: 161.2150\n",
            "Epoch 9/18\n",
            "5667/5667 [==============================] - 5s 899us/step - loss: 29026.7695 - root_mean_squared_error: 170.3724\n",
            "Epoch 10/18\n",
            "5667/5667 [==============================] - 5s 880us/step - loss: 27038.3301 - root_mean_squared_error: 164.4334\n",
            "Epoch 11/18\n",
            "5667/5667 [==============================] - 5s 854us/step - loss: 26695.7539 - root_mean_squared_error: 163.3884\n",
            "Epoch 12/18\n",
            "5667/5667 [==============================] - 5s 871us/step - loss: 27526.7812 - root_mean_squared_error: 165.9120\n",
            "Epoch 13/18\n",
            "5667/5667 [==============================] - 5s 828us/step - loss: 26706.6621 - root_mean_squared_error: 163.4217\n",
            "Epoch 14/18\n",
            "5667/5667 [==============================] - 5s 833us/step - loss: 26875.1816 - root_mean_squared_error: 163.9365\n",
            "Epoch 15/18\n",
            "5667/5667 [==============================] - 5s 906us/step - loss: 26719.0137 - root_mean_squared_error: 163.4595\n",
            "Epoch 16/18\n",
            "5667/5667 [==============================] - 5s 893us/step - loss: 26708.6289 - root_mean_squared_error: 163.4277\n",
            "Epoch 17/18\n",
            "5667/5667 [==============================] - 5s 809us/step - loss: 28139.5977 - root_mean_squared_error: 167.7486\n",
            "Epoch 18/18\n",
            "5667/5667 [==============================] - 5s 819us/step - loss: 27338.7285 - root_mean_squared_error: 165.3443\n",
            "\n",
            "The learned weight for your model is 0.0544\n",
            "The learned bias for your model is 213.6467\n",
            "\n"
          ],
          "name": "stdout"
        },
        {
          "output_type": "display_data",
          "data": {
            "image/png": "[encoded data removed]",
            "text/plain": [
              "<Figure size 432x288 with 1 Axes>"
            ]
          },
          "metadata": {
            "tags": [],
            "needs_background": "light"
          }
        },
        {
          "output_type": "display_data",
          "data": {
            "image/png": "[encoded data removed]",
            "text/plain": [
              "<Figure size 432x288 with 1 Axes>"
            ]
          },
          "metadata": {
            "tags": [],
            "needs_background": "light"
          }
        },
        {
          "output_type": "stream",
          "text": [
            "feature label        predicted\n",
            "value   value        value\n",
            "        in thousand$ in thousand$\n",
            "----------------------------------\n",
            " 1286    169             284\n",
            " 1867    184             315\n",
            " 2191    161             333\n",
            " 1052    160             271\n",
            " 1647    275             303\n",
            " 2312    261             339\n",
            " 1604     86             301\n",
            " 1066    168             272\n",
            "  338    184             232\n",
            " 1604    180             301\n"
          ],
          "name": "stdout"
        }
      ]
    },
    {
      "cell_type": "markdown",
      "metadata": {
        "id": "_4NCM4e61yKF",
        "colab_type": "text"
      },
      "source": [
        "Defining a synthetic feature\n",
        "\n",
        "the ratio of total_rooms to population might have some predictive power"
      ]
    },
    {
      "cell_type": "code",
      "metadata": {
        "id": "4Xf_G1Ii1jUt",
        "colab_type": "code",
        "colab": {
          "base_uri": "https://localhost:8080/",
          "height": 1000
        },
        "outputId": "6a2a8bac-3096-490d-e0c9-d8d493acc763"
      },
      "source": [
        "training_df[\"rooms_per_person\"]=training_df[\"total_rooms\"]/training_df[\"population\"]\n",
        "my_feature=\"rooms_per_person\"\n",
        "\n",
        "learning_rate = 0.05\n",
        "epochs = 30\n",
        "batch_size = 30\n",
        "\n",
        "my_model=None\n",
        "my_model=build_model(learning_rate)\n",
        "weight,bias,epochs,rmse=train_model(my_model,training_df,my_feature,my_label,epochs,batch_size)\n",
        "print(\"\\nThe learned weight for your model is %.4f\" % weight)\n",
        "print(\"The learned bias for your model is %.4f\\n\" % bias )\n",
        "plot_the_model(weight,bias,my_feature,my_label)\n",
        "plot_the_loss_curve(epochs,rmse)\n",
        "\n",
        "predict_house_values(10,my_feature,my_label)"
      ],
      "execution_count": null,
      "outputs": [
        {
          "output_type": "stream",
          "text": [
            "Epoch 1/30\n",
            "567/567 [==============================] - 0s 809us/step - loss: 39607.4336 - root_mean_squared_error: 199.0162\n",
            "Epoch 2/30\n",
            "567/567 [==============================] - 0s 835us/step - loss: 21265.9941 - root_mean_squared_error: 145.8286\n",
            "Epoch 3/30\n",
            "567/567 [==============================] - 0s 819us/step - loss: 15626.5283 - root_mean_squared_error: 125.0061\n",
            "Epoch 4/30\n",
            "567/567 [==============================] - 0s 837us/step - loss: 14953.6074 - root_mean_squared_error: 122.2849\n",
            "Epoch 5/30\n",
            "567/567 [==============================] - 0s 841us/step - loss: 14841.0518 - root_mean_squared_error: 121.8239\n",
            "Epoch 6/30\n",
            "567/567 [==============================] - 1s 920us/step - loss: 14738.8203 - root_mean_squared_error: 121.4035\n",
            "Epoch 7/30\n",
            "567/567 [==============================] - 0s 797us/step - loss: 14626.0811 - root_mean_squared_error: 120.9383\n",
            "Epoch 8/30\n",
            "567/567 [==============================] - 0s 831us/step - loss: 14470.5010 - root_mean_squared_error: 120.2934\n",
            "Epoch 9/30\n",
            "567/567 [==============================] - 0s 827us/step - loss: 14333.1553 - root_mean_squared_error: 119.7212\n",
            "Epoch 10/30\n",
            "567/567 [==============================] - 0s 854us/step - loss: 14280.5449 - root_mean_squared_error: 119.5012\n",
            "Epoch 11/30\n",
            "567/567 [==============================] - 0s 826us/step - loss: 14117.8164 - root_mean_squared_error: 118.8184\n",
            "Epoch 12/30\n",
            "567/567 [==============================] - 0s 819us/step - loss: 13992.5781 - root_mean_squared_error: 118.2902\n",
            "Epoch 13/30\n",
            "567/567 [==============================] - 0s 787us/step - loss: 13913.9727 - root_mean_squared_error: 117.9575\n",
            "Epoch 14/30\n",
            "567/567 [==============================] - 0s 817us/step - loss: 13825.2100 - root_mean_squared_error: 117.5807\n",
            "Epoch 15/30\n",
            "567/567 [==============================] - 0s 788us/step - loss: 13789.0645 - root_mean_squared_error: 117.4268\n",
            "Epoch 16/30\n",
            "567/567 [==============================] - 0s 849us/step - loss: 13682.0449 - root_mean_squared_error: 116.9703\n",
            "Epoch 17/30\n",
            "567/567 [==============================] - 0s 869us/step - loss: 13706.7568 - root_mean_squared_error: 117.0759\n",
            "Epoch 18/30\n",
            "567/567 [==============================] - 0s 773us/step - loss: 13657.5459 - root_mean_squared_error: 116.8655\n",
            "Epoch 19/30\n",
            "567/567 [==============================] - 0s 806us/step - loss: 13639.5703 - root_mean_squared_error: 116.7886\n",
            "Epoch 20/30\n",
            "567/567 [==============================] - 0s 802us/step - loss: 13582.0381 - root_mean_squared_error: 116.5420\n",
            "Epoch 21/30\n",
            "567/567 [==============================] - 0s 790us/step - loss: 13540.1406 - root_mean_squared_error: 116.3621\n",
            "Epoch 22/30\n",
            "567/567 [==============================] - 0s 781us/step - loss: 13507.5459 - root_mean_squared_error: 116.2220\n",
            "Epoch 23/30\n",
            "567/567 [==============================] - 0s 833us/step - loss: 13498.1807 - root_mean_squared_error: 116.1817\n",
            "Epoch 24/30\n",
            "567/567 [==============================] - 0s 783us/step - loss: 13455.4902 - root_mean_squared_error: 115.9978\n",
            "Epoch 25/30\n",
            "567/567 [==============================] - 0s 868us/step - loss: 13432.8857 - root_mean_squared_error: 115.9003\n",
            "Epoch 26/30\n",
            "567/567 [==============================] - 0s 784us/step - loss: 13444.1572 - root_mean_squared_error: 115.9489\n",
            "Epoch 27/30\n",
            "567/567 [==============================] - 0s 799us/step - loss: 13413.3008 - root_mean_squared_error: 115.8158\n",
            "Epoch 28/30\n",
            "567/567 [==============================] - 0s 877us/step - loss: 13415.4150 - root_mean_squared_error: 115.8249\n",
            "Epoch 29/30\n",
            "567/567 [==============================] - 0s 848us/step - loss: 13393.6396 - root_mean_squared_error: 115.7309\n",
            "Epoch 30/30\n",
            "567/567 [==============================] - 0s 837us/step - loss: 13389.8252 - root_mean_squared_error: 115.7144\n",
            "\n",
            "The learned weight for your model is 39.2882\n",
            "The learned bias for your model is 127.8818\n",
            "\n"
          ],
          "name": "stdout"
        },
        {
          "output_type": "display_data",
          "data": {
            "image/png": "[encoded data removed]",
            "text/plain": [
              "<Figure size 432x288 with 1 Axes>"
            ]
          },
          "metadata": {
            "tags": [],
            "needs_background": "light"
          }
        },
        {
          "output_type": "display_data",
          "data": {
            "image/png": "[encoded data removed]",
            "text/plain": [
              "<Figure size 432x288 with 1 Axes>"
            ]
          },
          "metadata": {
            "tags": [],
            "needs_background": "light"
          }
        },
        {
          "output_type": "stream",
          "text": [
            "feature label        predicted\n",
            "value   value        value\n",
            "        in thousand$ in thousand$\n",
            "----------------------------------\n",
            "    2    169             188\n",
            "    2    184             199\n",
            "    2    161             194\n",
            "    2    160             210\n",
            "    1    275             185\n",
            "    2    261             224\n",
            "    2     86             209\n",
            "    2    168             222\n",
            "    4    184             286\n",
            "    2    180             213\n"
          ],
          "name": "stdout"
        }
      ]
    },
    {
      "cell_type": "markdown",
      "metadata": {
        "id": "tvuznneC43Cp",
        "colab_type": "text"
      },
      "source": [
        "Find feature(s) whose raw values correlate with the label\n",
        "\n",
        "A correlation matrix indicates how each attribute's raw values relate to the other attributes' raw values. Correlation values have the following meanings:\n",
        "\n",
        "1.0: perfect positive correlation; that is, when one attribute rises, the other attribute rises.\n",
        "-1.0: perfect negative correlation; that is, when one attribute rises, the other attribute falls.\n",
        "0.0: no correlation; the two column's are not linearly related.\n",
        "In general, the higher the absolute value of a correlation value, the greater its predictive power. For example, a correlation value of -0.8 implies far more predictive power than a correlation of -0.2."
      ]
    },
    {
      "cell_type": "code",
      "metadata": {
        "id": "wyKrqnsW1j4c",
        "colab_type": "code",
        "colab": {
          "base_uri": "https://localhost:8080/",
          "height": 363
        },
        "outputId": "b2e6053d-7117-4812-837d-62c838144ed0"
      },
      "source": [
        "training_df.corr()"
      ],
      "execution_count": null,
      "outputs": [
        {
          "output_type": "execute_result",
          "data": {
            "text/html": [
              "<div>\n",
              "<style scoped>\n",
              "    .dataframe tbody tr th:only-of-type {\n",
              "        vertical-align: middle;\n",
              "    }\n",
              "\n",
              "    .dataframe tbody tr th {\n",
              "        vertical-align: top;\n",
              "    }\n",
              "\n",
              "    .dataframe thead th {\n",
              "        text-align: right;\n",
              "    }\n",
              "</style>\n",
              "<table border=\"1\" class=\"dataframe\">\n",
              "  <thead>\n",
              "    <tr style=\"text-align: right;\">\n",
              "      <th></th>\n",
              "      <th>longitude</th>\n",
              "      <th>latitude</th>\n",
              "      <th>housing_median_age</th>\n",
              "      <th>total_rooms</th>\n",
              "      <th>total_bedrooms</th>\n",
              "      <th>population</th>\n",
              "      <th>households</th>\n",
              "      <th>median_income</th>\n",
              "      <th>median_house_value</th>\n",
              "      <th>rooms_per_person</th>\n",
              "    </tr>\n",
              "  </thead>\n",
              "  <tbody>\n",
              "    <tr>\n",
              "      <th>longitude</th>\n",
              "      <td>1.0</td>\n",
              "      <td>-0.9</td>\n",
              "      <td>-0.1</td>\n",
              "      <td>0.0</td>\n",
              "      <td>0.1</td>\n",
              "      <td>0.1</td>\n",
              "      <td>0.1</td>\n",
              "      <td>-0.0</td>\n",
              "      <td>-0.0</td>\n",
              "      <td>-0.1</td>\n",
              "    </tr>\n",
              "    <tr>\n",
              "      <th>latitude</th>\n",
              "      <td>-0.9</td>\n",
              "      <td>1.0</td>\n",
              "      <td>0.0</td>\n",
              "      <td>-0.0</td>\n",
              "      <td>-0.1</td>\n",
              "      <td>-0.1</td>\n",
              "      <td>-0.1</td>\n",
              "      <td>-0.1</td>\n",
              "      <td>-0.1</td>\n",
              "      <td>0.1</td>\n",
              "    </tr>\n",
              "    <tr>\n",
              "      <th>housing_median_age</th>\n",
              "      <td>-0.1</td>\n",
              "      <td>0.0</td>\n",
              "      <td>1.0</td>\n",
              "      <td>-0.4</td>\n",
              "      <td>-0.3</td>\n",
              "      <td>-0.3</td>\n",
              "      <td>-0.3</td>\n",
              "      <td>-0.1</td>\n",
              "      <td>0.1</td>\n",
              "      <td>-0.1</td>\n",
              "    </tr>\n",
              "    <tr>\n",
              "      <th>total_rooms</th>\n",
              "      <td>0.0</td>\n",
              "      <td>-0.0</td>\n",
              "      <td>-0.4</td>\n",
              "      <td>1.0</td>\n",
              "      <td>0.9</td>\n",
              "      <td>0.9</td>\n",
              "      <td>0.9</td>\n",
              "      <td>0.2</td>\n",
              "      <td>0.1</td>\n",
              "      <td>0.1</td>\n",
              "    </tr>\n",
              "    <tr>\n",
              "      <th>total_bedrooms</th>\n",
              "      <td>0.1</td>\n",
              "      <td>-0.1</td>\n",
              "      <td>-0.3</td>\n",
              "      <td>0.9</td>\n",
              "      <td>1.0</td>\n",
              "      <td>0.9</td>\n",
              "      <td>1.0</td>\n",
              "      <td>-0.0</td>\n",
              "      <td>0.0</td>\n",
              "      <td>0.0</td>\n",
              "    </tr>\n",
              "    <tr>\n",
              "      <th>population</th>\n",
              "      <td>0.1</td>\n",
              "      <td>-0.1</td>\n",
              "      <td>-0.3</td>\n",
              "      <td>0.9</td>\n",
              "      <td>0.9</td>\n",
              "      <td>1.0</td>\n",
              "      <td>0.9</td>\n",
              "      <td>-0.0</td>\n",
              "      <td>-0.0</td>\n",
              "      <td>-0.1</td>\n",
              "    </tr>\n",
              "    <tr>\n",
              "      <th>households</th>\n",
              "      <td>0.1</td>\n",
              "      <td>-0.1</td>\n",
              "      <td>-0.3</td>\n",
              "      <td>0.9</td>\n",
              "      <td>1.0</td>\n",
              "      <td>0.9</td>\n",
              "      <td>1.0</td>\n",
              "      <td>0.0</td>\n",
              "      <td>0.1</td>\n",
              "      <td>-0.0</td>\n",
              "    </tr>\n",
              "    <tr>\n",
              "      <th>median_income</th>\n",
              "      <td>-0.0</td>\n",
              "      <td>-0.1</td>\n",
              "      <td>-0.1</td>\n",
              "      <td>0.2</td>\n",
              "      <td>-0.0</td>\n",
              "      <td>-0.0</td>\n",
              "      <td>0.0</td>\n",
              "      <td>1.0</td>\n",
              "      <td>0.7</td>\n",
              "      <td>0.2</td>\n",
              "    </tr>\n",
              "    <tr>\n",
              "      <th>median_house_value</th>\n",
              "      <td>-0.0</td>\n",
              "      <td>-0.1</td>\n",
              "      <td>0.1</td>\n",
              "      <td>0.1</td>\n",
              "      <td>0.0</td>\n",
              "      <td>-0.0</td>\n",
              "      <td>0.1</td>\n",
              "      <td>0.7</td>\n",
              "      <td>1.0</td>\n",
              "      <td>0.2</td>\n",
              "    </tr>\n",
              "    <tr>\n",
              "      <th>rooms_per_person</th>\n",
              "      <td>-0.1</td>\n",
              "      <td>0.1</td>\n",
              "      <td>-0.1</td>\n",
              "      <td>0.1</td>\n",
              "      <td>0.0</td>\n",
              "      <td>-0.1</td>\n",
              "      <td>-0.0</td>\n",
              "      <td>0.2</td>\n",
              "      <td>0.2</td>\n",
              "      <td>1.0</td>\n",
              "    </tr>\n",
              "  </tbody>\n",
              "</table>\n",
              "</div>"
            ],
            "text/plain": [
              "                    longitude  latitude  ...  median_house_value  rooms_per_person\n",
              "longitude                 1.0      -0.9  ...                -0.0              -0.1\n",
              "latitude                 -0.9       1.0  ...                -0.1               0.1\n",
              "housing_median_age       -0.1       0.0  ...                 0.1              -0.1\n",
              "total_rooms               0.0      -0.0  ...                 0.1               0.1\n",
              "total_bedrooms            0.1      -0.1  ...                 0.0               0.0\n",
              "population                0.1      -0.1  ...                -0.0              -0.1\n",
              "households                0.1      -0.1  ...                 0.1              -0.0\n",
              "median_income            -0.0      -0.1  ...                 0.7               0.2\n",
              "median_house_value       -0.0      -0.1  ...                 1.0               0.2\n",
              "rooms_per_person         -0.1       0.1  ...                 0.2               1.0\n",
              "\n",
              "[10 rows x 10 columns]"
            ]
          },
          "metadata": {
            "tags": []
          },
          "execution_count": 16
        }
      ]
    },
    {
      "cell_type": "markdown",
      "metadata": {
        "id": "-fuT0UrylKU9",
        "colab_type": "text"
      },
      "source": [
        "The correlation matrix shows nine potential features (including a synthetic feature) and one label (median_house_value). A strong negative correlation or strong positive correlation with the label suggests a potentially good feature."
      ]
    }
  ]
}